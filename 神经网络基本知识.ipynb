{
 "cells": [
  {
   "metadata": {},
   "cell_type": "markdown",
   "source": [
    "# 神经网络\n",
    "- 神经网络包括输入层、隐藏层（中间层）、输出层\n",
    "- 设计神经网络时，输入与输出层的神经元数量是固定的，中间层的层数以及神经元数量可以自由指定\n",
    "\n",
    "### 示例\n",
    "- 下图输入层有三个输入单元，中间层有一层、4个输入神经元，输出层有两个输出单元\n",
    "- 箭头代表训练与测试时候的数据流向\n",
    "\n",
    "![神经网络](images/神经网络.png)  \n",
    "\n",
    "<br>\n",
    "\n",
    "- 神经网络中输入层的数据经过每一个神经元的计算后就变成了输出值\n",
    "- 神经网络的中间层数据越多，神经元数量越多，功能越强大，同时所需计算资源越大\n",
    "- 例如，经典的AlexNet模型有8个中间层、65万个神经元、6000万个参数\n",
    "\n",
    "![多层中间层神经网络](images/多层中间层神经网络.png)\n",
    "\n",
    "## 神经元\n",
    "- 每一个神经元包括：输入、输出、以及两个计算\n",
    "    - x表示输入\n",
    "    - w表示权值\n",
    "        - w与相对应的x相乘\n",
    "    - ∑ 表示求和\n",
    "    - a是求和后的值\n",
    "    - f是激活函数，把a得值转换到一个固定范围内\n",
    "  \n",
    "![神经元](images/神经元.png)\n",
    "\n",
    "<br>\n",
    "\n",
    "# Autograd包\n",
    "- pytorch所有神经网络的核心，为tensor上的所有操作提供了自动区分\n",
    "- 在autograd下，反向传递（backprop）代码自动定义\n",
    "    - .require_grad\n",
    "        - 在tensor上设定.require_grad=true后，autograd会自动追踪与该tensor有关的所有运算\n",
    "    - .backward()\n",
    "        - 所有运算完成后，执行.backward()，autograd会自动计算梯度并执行反向传递\n",
    "    - .grad\n",
    "        - 用来访问梯度\n",
    "    - with torch.no_grad()\n",
    "        - 自动忽略梯度"
   ],
   "id": "499caa7abaf7c576"
  },
  {
   "cell_type": "code",
   "id": "initial_id",
   "metadata": {
    "collapsed": true,
    "ExecuteTime": {
     "end_time": "2024-09-06T03:01:39.394871Z",
     "start_time": "2024-09-06T03:01:36.996823Z"
    }
   },
   "source": "import torch",
   "outputs": [],
   "execution_count": 1
  },
  {
   "metadata": {
    "ExecuteTime": {
     "end_time": "2024-09-06T03:01:39.485742Z",
     "start_time": "2024-09-06T03:01:39.400784Z"
    }
   },
   "cell_type": "code",
   "source": [
    "x = torch.ones(2, 2, requires_grad=True)\n",
    "print(x)"
   ],
   "id": "cb807cd9eb20100c",
   "outputs": [
    {
     "name": "stdout",
     "output_type": "stream",
     "text": [
      "tensor([[1., 1.],\n",
      "        [1., 1.]], requires_grad=True)\n"
     ]
    }
   ],
   "execution_count": 2
  },
  {
   "metadata": {},
   "cell_type": "code",
   "outputs": [],
   "execution_count": null,
   "source": "",
   "id": "386d95a62e0f2caf"
  }
 ],
 "metadata": {
  "kernelspec": {
   "display_name": "Python 3",
   "language": "python",
   "name": "python3"
  },
  "language_info": {
   "codemirror_mode": {
    "name": "ipython",
    "version": 2
   },
   "file_extension": ".py",
   "mimetype": "text/x-python",
   "name": "python",
   "nbconvert_exporter": "python",
   "pygments_lexer": "ipython2",
   "version": "2.7.6"
  }
 },
 "nbformat": 4,
 "nbformat_minor": 5
}
