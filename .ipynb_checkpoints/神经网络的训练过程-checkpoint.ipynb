{
 "cells": [
  {
   "cell_type": "markdown",
   "source": [
    "# 神经网络的训练过程\n",
    "- 定义神经网络\n",
    "- 迭代输入数据\n",
    "- 神经网络计算输出\n",
    "- 计算损失\n",
    "- 反向传递梯度回到网络的参数\n",
    "- 更新网络的权重\n",
    "\n",
    "![AlexNet以及中间层的输出效果](images/AlexNet以及中间层的输出效果.png)"
   ],
   "metadata": {
    "collapsed": false
   },
   "id": "ad3eb67e27283617"
  },
  {
   "cell_type": "code",
   "execution_count": null,
   "outputs": [],
   "source": [
    "import torch\n",
    "import torch.nn as nn\n",
    "import torch.nn.functional as F"
   ],
   "metadata": {
    "collapsed": false
   },
   "id": "cbbeaf28ebc95c8b"
  },
  {
   "cell_type": "markdown",
   "source": [],
   "metadata": {
    "collapsed": false
   },
   "id": "d1a055a4b09d67c"
  }
 ],
 "metadata": {
  "kernelspec": {
   "display_name": "Python 3",
   "language": "python",
   "name": "python3"
  },
  "language_info": {
   "codemirror_mode": {
    "name": "ipython",
    "version": 2
   },
   "file_extension": ".py",
   "mimetype": "text/x-python",
   "name": "python",
   "nbconvert_exporter": "python",
   "pygments_lexer": "ipython2",
   "version": "2.7.6"
  }
 },
 "nbformat": 4,
 "nbformat_minor": 5
}
