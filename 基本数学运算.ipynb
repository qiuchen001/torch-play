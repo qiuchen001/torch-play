{
 "cells": [
  {
   "metadata": {},
   "cell_type": "markdown",
   "source": [
    "1. 向量（Vector）：一列数\n",
    "2. 矩阵（Matrix）：二维向量\n",
    "3. 张量（Tensor）：三维向量或者三维矩阵\n",
    "4. 神经网络的核心部分是向量、矩阵、张量之间的相乘与相加"
   ],
   "id": "6101baacd3803ffb"
  },
  {
   "metadata": {
    "ExecuteTime": {
     "end_time": "2024-09-06T02:04:40.982009Z",
     "start_time": "2024-09-06T02:04:38.573039Z"
    }
   },
   "cell_type": "code",
   "source": "import torch",
   "id": "94fc4638ef1fc9bd",
   "outputs": [],
   "execution_count": 1
  },
  {
   "metadata": {
    "ExecuteTime": {
     "end_time": "2024-09-06T02:04:41.058693Z",
     "start_time": "2024-09-06T02:04:40.995009Z"
    }
   },
   "cell_type": "code",
   "source": [
    "# 定义向量\n",
    "vector = torch.tensor([1, 2, 3, 4])\n",
    "print('vector: \\t\\t', vector) # torch中的基本数据类型是tensor\n",
    "print('vector shape:\\t', vector.shape)"
   ],
   "id": "e541f77b67d32bbf",
   "outputs": [
    {
     "name": "stdout",
     "output_type": "stream",
     "text": [
      "vector: \t\t tensor([1, 2, 3, 4])\n",
      "vector shape:\t torch.Size([4])\n"
     ]
    }
   ],
   "execution_count": 2
  },
  {
   "metadata": {
    "ExecuteTime": {
     "end_time": "2024-09-06T02:12:41.490879Z",
     "start_time": "2024-09-06T02:12:41.464878Z"
    }
   },
   "cell_type": "code",
   "source": [
    "# 定义矩阵\n",
    "matrix = torch.tensor([\n",
    "    [1, 2], [3, 4]\n",
    "])\n",
    "print('matrix:\\n', matrix)\n",
    "print('matrix shape:\\n', matrix.shape)"
   ],
   "id": "c5d5b100eb69080a",
   "outputs": [
    {
     "name": "stdout",
     "output_type": "stream",
     "text": [
      "matrix:\n",
      " tensor([[1, 2],\n",
      "        [3, 4]])\n",
      "matrix shape:\n",
      " torch.Size([2, 2])\n"
     ]
    }
   ],
   "execution_count": 3
  },
  {
   "metadata": {
    "ExecuteTime": {
     "end_time": "2024-09-06T02:15:00.451442Z",
     "start_time": "2024-09-06T02:15:00.432135Z"
    }
   },
   "cell_type": "code",
   "source": [
    "# 定义张量\n",
    "tensor = torch.tensor([\n",
    "    [\n",
    "        [1, 2], [3, 4]\n",
    "    ], \n",
    "    [\n",
    "        [1, 2], [3, 4]\n",
    "    ]\n",
    "\n",
    "])\n",
    "print('tensor:\\n', tensor)\n",
    "print('tensor shape:\\n', tensor.shape) # 这个张量有三个维度，每个维度的大小都是2"
   ],
   "id": "fe466415e372ee3f",
   "outputs": [
    {
     "name": "stdout",
     "output_type": "stream",
     "text": [
      "tensor:\n",
      " tensor([[[1, 2],\n",
      "         [3, 4]],\n",
      "\n",
      "        [[1, 2],\n",
      "         [3, 4]]])\n",
      "tensor shape:\n",
      " torch.Size([2, 2, 2])\n"
     ]
    }
   ],
   "execution_count": 4
  }
 ],
 "metadata": {
  "kernelspec": {
   "display_name": "Python 3",
   "language": "python",
   "name": "python3"
  },
  "language_info": {
   "codemirror_mode": {
    "name": "ipython",
    "version": 2
   },
   "file_extension": ".py",
   "mimetype": "text/x-python",
   "name": "python",
   "nbconvert_exporter": "python",
   "pygments_lexer": "ipython2",
   "version": "2.7.6"
  }
 },
 "nbformat": 4,
 "nbformat_minor": 5
}
