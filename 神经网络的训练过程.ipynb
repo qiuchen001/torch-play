{
 "cells": [
  {
   "cell_type": "markdown",
   "id": "ad3eb67e27283617",
   "metadata": {
    "collapsed": false
   },
   "source": [
    "# 神经网络的训练过程\n",
    "- 定义神经网络\n",
    "- 迭代输入数据\n",
    "- 神经网络计算输出\n",
    "- 计算损失\n",
    "- 反向传递梯度回到网络的参数\n",
    "- 更新网络的权重\n",
    "\n",
    "![AlexNet以及中间层的输出效果](images/AlexNet以及中间层的输出效果.png)"
   ]
  },
  {
   "cell_type": "markdown",
   "source": [
    "# 定义神经网络和训练流程"
   ],
   "metadata": {
    "collapsed": false
   },
   "id": "3ff88fe6373c2b47"
  },
  {
   "cell_type": "code",
   "execution_count": null,
   "outputs": [],
   "source": [
    "import torch\n",
    "import torch.nn as nn\n",
    "import torch.nn.functional as F"
   ],
   "metadata": {
    "collapsed": false
   },
   "id": "cbbeaf28ebc95c8b"
  },
  {
   "cell_type": "code",
   "execution_count": null,
   "outputs": [],
   "source": [
    "class Net(nn.Module):\n",
    "    def __init__(self): # 定义神经网络结构，输入数据 1*32*32\n",
    "        super(Net, self).__init__()\n",
    "        # 第一层（卷积层）\n",
    "        self.conv1 = nn.Conv2d(1, 6, 3) # 输入频道1， 输出频道6， 卷积3*3\n",
    "        # 第二层（卷积层）\n",
    "        self.conv2 = nn.Conv2d(6, 16, 3) # 输入频道6， 输出频道16， 卷积3*3\n",
    "        # 第三层（全连接层）\n",
    "        self.fc1 = nn.Linear(16*28*28, 512) # 输入维度16*28*28=12544，输出维度512.这里的28，是因为经过每一层都会减2，32-2-2=28\n",
    "        # 第四层（全连接层）\n",
    "        self.fc2 = nn.Linear(512, 64) # 输入维度512， 输出维度64\n",
    "        # 第五层（全连接层）\n",
    "        self.fc3 = nn.Linear(64, 2) # 输入维度64， 输出维度2\n",
    "        \n",
    "    def forward(self, x): # 定义数据流向\n",
    "        x = self.conv1(x)\n",
    "        x = F.relu(x) # 激活函数\n",
    "        \n",
    "        x = self.conv2(x)\n",
    "        x = F.relu(x)\n",
    "        \n",
    "        x = x.view(-1, 16*28*28) # 将卷积层的输出张量重新调整形状，以便输入到全连接层，这个操作通过被成为“展平”。-1表示让torch自动计算该维度的大小，以确保元素总数不变，16 * 28 * 28：这是卷积层输出的特征图的总元素数量。16 是通道数，28 是高度，28 是宽度\n",
    "        x = self.fc1(x)\n",
    "        x = F.relu(x)\n",
    "        \n",
    "        x = self.fc2(x)\n",
    "        x = F.relu(x)\n",
    "        \n",
    "        x = self.fc3(x) # 在神经网络的最后一层通常不需要使用激活函数，最后一层的输出通常会直接传递给损失函数进行计算\n",
    "        \n",
    "        return x"
   ],
   "metadata": {
    "collapsed": false
   },
   "id": "1e41675292fd9e6d"
  },
  {
   "cell_type": "code",
   "execution_count": null,
   "outputs": [],
   "source": [
    "net = Net()\n",
    "print(net)"
   ],
   "metadata": {
    "collapsed": false
   },
   "id": "6424d4868b8fe634"
  },
  {
   "cell_type": "markdown",
   "source": [
    "# 运行神经网络与计算损失"
   ],
   "metadata": {
    "collapsed": false
   },
   "id": "3dd2cc8eab3eea69"
  },
  {
   "cell_type": "code",
   "execution_count": null,
   "outputs": [],
   "source": [
    "# 生成随机输入\n",
    "input_data = torch.randn(1, 1, 32, 32) # 生成随机输入，批量大小为 1，通道数为 1，高度和宽度为 32\n",
    "print(input_data)\n",
    "print(input_data.size()) # 返回张量的形状，功能同input_data.shape"
   ],
   "metadata": {
    "collapsed": false
   },
   "id": "9034ae2179f88010"
  },
  {
   "cell_type": "code",
   "execution_count": null,
   "outputs": [],
   "source": [
    "# 运行神经网络\n",
    "out = net(input_data)\n",
    "print(out)\n",
    "print(out.size())"
   ],
   "metadata": {
    "collapsed": false
   },
   "id": "c3d73a6d7417ca30"
  },
  {
   "cell_type": "code",
   "execution_count": null,
   "outputs": [],
   "source": [
    "# 随机生成真实值\n",
    "target = torch.randn(2)\n",
    "target = target.view(1, -1) # 将张量 target 重新调整形状（reshape）为一个二维张量，其中第一维的大小为 1，第二维的大小由 PyTorch 自动计算以确保元素总数不变\n",
    "print(target)"
   ],
   "metadata": {
    "collapsed": false
   },
   "id": "e8fe751dafbb16a7"
  },
  {
   "cell_type": "code",
   "execution_count": null,
   "outputs": [],
   "source": [
    "criterion = nn.L1Loss() # 定义损失函数\n",
    "loss = criterion(out, target) # 计算损失\n",
    "print(loss)"
   ],
   "metadata": {
    "collapsed": false
   },
   "id": "d8698346d02e4b5a"
  },
  {
   "cell_type": "markdown",
   "source": [
    "# 反向传递与权值更新"
   ],
   "metadata": {
    "collapsed": false
   },
   "id": "8ff2b7b378ba3585"
  },
  {
   "cell_type": "code",
   "execution_count": null,
   "outputs": [],
   "source": [
    "# 反向传递\n",
    "net.zero_grad() # 清零梯度\n",
    "loss.backward() # 自动计算梯度、反向传递"
   ],
   "metadata": {
    "collapsed": false
   },
   "id": "7a4a3c3bc8bc1e24"
  },
  {
   "cell_type": "code",
   "execution_count": null,
   "outputs": [],
   "source": [
    "import torch.optim as optim\n",
    "\n",
    "optimizer = optim.SGD(net.parameters(), lr=0.01)\n",
    "optimizer.step() # 根据计算的梯度（gradients）和优化器的配置（如学习率`lr`）来更新模型的参数，以最小化损失函数。"
   ],
   "metadata": {
    "collapsed": false
   },
   "id": "3ac29b3321c62877"
  },
  {
   "cell_type": "code",
   "execution_count": null,
   "outputs": [],
   "source": [
    "out = net(input_data)\n",
    "print(out)\n",
    "print(out.size())"
   ],
   "metadata": {
    "collapsed": false
   },
   "id": "5df477ff49a0a8cc"
  },
  {
   "cell_type": "code",
   "execution_count": null,
   "outputs": [],
   "source": [
    "loss = criterion(out, target) # 计算损失\n",
    "print(loss)"
   ],
   "metadata": {
    "collapsed": false
   },
   "id": "2746ec1d6e531741"
  },
  {
   "cell_type": "markdown",
   "source": [
    "# 神经网络中损失函数的用途\n",
    "- 损失函数代表了预测值与真实值的差\n",
    "- 常见损失函数\n",
    "    - mean absolute loss (L1)\n",
    "    - mean squared loss (MSE)\n",
    "    - cross entropy loss\n",
    "    - KL-divergence\n",
    "- 损失函数的用途\n",
    "    - 用于计算梯度、反向传递、更新网络权重\n",
    "    - 判断模型是否训练好了\n",
    "        - 判断过度拟合、欠拟合\n",
    "\n",
    "![正确率与训练时间](images/正确率与epoch.png)"
   ],
   "metadata": {
    "collapsed": false
   },
   "id": "5e7171f261e076a2"
  },
  {
   "cell_type": "code",
   "execution_count": null,
   "outputs": [],
   "source": [],
   "metadata": {
    "collapsed": false
   },
   "id": "b6e9bfe091aec1b5"
  }
 ],
 "metadata": {
  "kernelspec": {
   "display_name": "Python 3 (ipykernel)",
   "language": "python",
   "name": "python3"
  },
  "language_info": {
   "codemirror_mode": {
    "name": "ipython",
    "version": 3
   },
   "file_extension": ".py",
   "mimetype": "text/x-python",
   "name": "python",
   "nbconvert_exporter": "python",
   "pygments_lexer": "ipython3",
   "version": "3.10.14"
  }
 },
 "nbformat": 4,
 "nbformat_minor": 5
}
